{
 "cells": [
  {
   "cell_type": "code",
   "execution_count": 1,
   "id": "39eae41a-58dc-417b-b3b1-9986d69c452b",
   "metadata": {},
   "outputs": [],
   "source": [
    "%config Completer.use_jedi = False"
   ]
  },
  {
   "cell_type": "code",
   "execution_count": 2,
   "id": "7cfd5de8-d7ed-4733-a64a-a7050c307700",
   "metadata": {},
   "outputs": [],
   "source": [
    "import numpy as np\n",
    "import pandas as pd\n",
    "import os\n",
    "import matplotlib.pyplot as plt\n",
    "import gzip\n",
    "import gc"
   ]
  },
  {
   "cell_type": "code",
   "execution_count": 3,
   "id": "808f1cef-72f9-4196-815e-fcc727cf3527",
   "metadata": {},
   "outputs": [],
   "source": [
    "saved_files_path = '/home/donlekout/Desktop/Thesis/Data/Kraken/'"
   ]
  },
  {
   "cell_type": "markdown",
   "id": "b1fbe8d1-0c14-4acf-8a77-2b4b8e402161",
   "metadata": {
    "tags": []
   },
   "source": [
    "# Kraken BTCUSDT"
   ]
  },
  {
   "cell_type": "code",
   "execution_count": 3,
   "id": "5aeafbb3-0aa0-4fee-aa62-726838791481",
   "metadata": {},
   "outputs": [],
   "source": [
    "#Kraken BTCUSDT\n",
    "\n",
    "kraken_btcusdt = pd.DataFrame()\n",
    "\n",
    "path = '/home/donlekout/Desktop/Data/kaiko-trades/gz_v1/Kraken/BTCUSDT/'\n",
    "for folder in os.listdir(path):\n",
    "    newpath = path + str(folder)\n",
    "    for file in os.listdir(newpath):\n",
    "        with gzip.open(os.path.join(newpath, file)) as f:\n",
    "            temp = pd.read_csv(f, encoding='ISO-8859–1')\n",
    "            \n",
    "            kraken_btcusdt = pd.concat((kraken_btcusdt, temp))\n"
   ]
  },
  {
   "cell_type": "code",
   "execution_count": 12,
   "id": "4fa8fea3-be44-41a7-9601-fc17b33345c8",
   "metadata": {},
   "outputs": [],
   "source": [
    "kraken_btcusdt = kraken_btcusdt.sort_values('date')"
   ]
  },
  {
   "cell_type": "code",
   "execution_count": 5,
   "id": "20b8649b-2734-4853-a258-86cacd70fbed",
   "metadata": {},
   "outputs": [],
   "source": [
    "kraken_btcusdt = kraken_btcusdt[['symbol', 'date', 'price', 'amount', 'sell']]"
   ]
  },
  {
   "cell_type": "code",
   "execution_count": 14,
   "id": "87001f78-b251-436b-a06d-d11691e443b3",
   "metadata": {},
   "outputs": [],
   "source": [
    "kraken_btcusdt.to_parquet('/home/donlekout/Desktop/Thesis/Data/Kraken/kraken_btcusdt.parquet')"
   ]
  },
  {
   "cell_type": "code",
   "execution_count": 7,
   "id": "436696b0-be0e-45fd-9318-394041c9c04a",
   "metadata": {},
   "outputs": [
    {
     "name": "stderr",
     "output_type": "stream",
     "text": [
      "/tmp/ipykernel_73751/1132191454.py:1: SettingWithCopyWarning: \n",
      "A value is trying to be set on a copy of a slice from a DataFrame.\n",
      "Try using .loc[row_indexer,col_indexer] = value instead\n",
      "\n",
      "See the caveats in the documentation: https://pandas.pydata.org/pandas-docs/stable/user_guide/indexing.html#returning-a-view-versus-a-copy\n",
      "  kraken_btcusdt['symbol'] = kraken_btcusdt['symbol'].astype(str)\n",
      "/tmp/ipykernel_73751/1132191454.py:2: SettingWithCopyWarning: \n",
      "A value is trying to be set on a copy of a slice from a DataFrame.\n",
      "Try using .loc[row_indexer,col_indexer] = value instead\n",
      "\n",
      "See the caveats in the documentation: https://pandas.pydata.org/pandas-docs/stable/user_guide/indexing.html#returning-a-view-versus-a-copy\n",
      "  kraken_btcusdt['date'] = kraken_btcusdt['date'].astype('int64')\n",
      "/tmp/ipykernel_73751/1132191454.py:3: SettingWithCopyWarning: \n",
      "A value is trying to be set on a copy of a slice from a DataFrame.\n",
      "Try using .loc[row_indexer,col_indexer] = value instead\n",
      "\n",
      "See the caveats in the documentation: https://pandas.pydata.org/pandas-docs/stable/user_guide/indexing.html#returning-a-view-versus-a-copy\n",
      "  kraken_btcusdt['price'] = kraken_btcusdt['price'].astype('float64')\n",
      "/tmp/ipykernel_73751/1132191454.py:4: SettingWithCopyWarning: \n",
      "A value is trying to be set on a copy of a slice from a DataFrame.\n",
      "Try using .loc[row_indexer,col_indexer] = value instead\n",
      "\n",
      "See the caveats in the documentation: https://pandas.pydata.org/pandas-docs/stable/user_guide/indexing.html#returning-a-view-versus-a-copy\n",
      "  kraken_btcusdt['amount'] = kraken_btcusdt['amount'].astype('float64')\n",
      "/tmp/ipykernel_73751/1132191454.py:5: SettingWithCopyWarning: \n",
      "A value is trying to be set on a copy of a slice from a DataFrame.\n",
      "Try using .loc[row_indexer,col_indexer] = value instead\n",
      "\n",
      "See the caveats in the documentation: https://pandas.pydata.org/pandas-docs/stable/user_guide/indexing.html#returning-a-view-versus-a-copy\n",
      "  kraken_btcusdt['sell'] = kraken_btcusdt['sell'].astype(bool)\n"
     ]
    }
   ],
   "source": [
    "kraken_btcusdt['symbol'] = kraken_btcusdt['symbol'].astype(str)\n",
    "kraken_btcusdt['date'] = kraken_btcusdt['date'].astype('int64')\n",
    "kraken_btcusdt['price'] = kraken_btcusdt['price'].astype('float64')\n",
    "kraken_btcusdt['amount'] = kraken_btcusdt['amount'].astype('float64')\n",
    "kraken_btcusdt['sell'] = kraken_btcusdt['sell'].astype(bool)"
   ]
  },
  {
   "cell_type": "markdown",
   "id": "09f71a0e-2a9d-48e2-b7de-4cb3b717bcea",
   "metadata": {},
   "source": [
    "# Kraken BTCUSD"
   ]
  },
  {
   "cell_type": "code",
   "execution_count": 15,
   "id": "a1ca057e-06cb-4857-bfad-c8fd7fe9f351",
   "metadata": {},
   "outputs": [],
   "source": [
    "#Kraken BTCUSD\n",
    "\n",
    "kraken_btcusd = pd.DataFrame()\n",
    "\n",
    "path = '/home/donlekout/Desktop/Data/kaiko-trades/gz_v1/Kraken/BTCUSD/'\n",
    "for folder in os.listdir(path):\n",
    "    newpath = path + str(folder)\n",
    "    for file in os.listdir(newpath):\n",
    "        with gzip.open(os.path.join(newpath, file)) as f:\n",
    "            temp = pd.read_csv(f, encoding='ISO-8859–1')\n",
    "            temp = temp[['symbol', 'date', 'price', 'amount', 'sell']]\n",
    "            kraken_btcusd = pd.concat((kraken_btcusd, temp))\n"
   ]
  },
  {
   "cell_type": "code",
   "execution_count": 17,
   "id": "4fd96322-c404-4d57-badb-96943ed135c9",
   "metadata": {},
   "outputs": [],
   "source": [
    "kraken_btcusd = kraken_btcusd.sort_values('date')"
   ]
  },
  {
   "cell_type": "code",
   "execution_count": 19,
   "id": "53548ed7-9dc7-4b52-93a4-62cb67aa1dc2",
   "metadata": {},
   "outputs": [],
   "source": [
    "kraken_btcusd['symbol'] = kraken_btcusd['symbol'].astype(str)\n",
    "kraken_btcusd['date'] = kraken_btcusd['date'].astype('int64')\n",
    "kraken_btcusd['price'] = kraken_btcusd['price'].astype('float64')\n",
    "kraken_btcusd['amount'] = kraken_btcusd['amount'].astype('float64')\n",
    "kraken_btcusd['sell'] = kraken_btcusd['sell'].astype(bool)"
   ]
  },
  {
   "cell_type": "code",
   "execution_count": 21,
   "id": "f37e3e03-5787-4885-b17a-0c66b18eb251",
   "metadata": {},
   "outputs": [],
   "source": [
    "kraken_btcusd.to_parquet('/home/donlekout/Desktop/Thesis/Data/Kraken/kraken_btcusd.parquet')"
   ]
  },
  {
   "cell_type": "markdown",
   "id": "3974f033-bb53-4b01-a5be-668c39260068",
   "metadata": {},
   "source": [
    "# Coinbase BTCUSD"
   ]
  },
  {
   "cell_type": "code",
   "execution_count": null,
   "id": "e4ffca16-a5d2-4cc0-b134-3419bbf90f54",
   "metadata": {},
   "outputs": [],
   "source": [
    "coinbase_btcusd = pd.DataFrame()\n",
    "\n",
    "path2 = '/home/donlekout/Desktop/Data/kaiko-trades/gz_v1/Coinbase/BTCUSD/'\n",
    "\n",
    "for folder in os.listdir(path2):\n",
    "    newpath = path2 + str(folder)\n",
    "    for file in os.listdir(newpath):\n",
    "        with gzip.open(os.path.join(newpath, file)) as f:\n",
    "            temp = pd.read_csv(f, encoding='ISO-8859–1')\n",
    "            coinbase_btcusd = pd.concat((coinbase_btcusd, temp))"
   ]
  },
  {
   "cell_type": "markdown",
   "id": "c21bbe82-519a-4a5e-a115-d1ffd2e4d20c",
   "metadata": {},
   "source": [
    "# Coinbase BTCUSDT"
   ]
  },
  {
   "cell_type": "code",
   "execution_count": 22,
   "id": "a92500c1-b6c9-4222-941a-ca9afecde459",
   "metadata": {},
   "outputs": [],
   "source": [
    "coinbase_btcusdt = pd.DataFrame()\n",
    "\n",
    "path3 = '/home/donlekout/Desktop/Data/kaiko-trades/gz_v1/Coinbase/BTCUSDT/'\n",
    "\n",
    "for folder in os.listdir(path3):\n",
    "    newpath2 = path3 + str(folder)\n",
    "    for file in os.listdir(newpath2):\n",
    "        with gzip.open(os.path.join(newpath2, file)) as f:\n",
    "            temp = pd.read_csv(f, encoding='ISO-8859–1')\n",
    "            temp = temp[['symbol', 'date', 'price', 'amount', 'sell']]\n",
    "            coinbase_btcusdt = pd.concat((coinbase_btcusdt, temp))"
   ]
  },
  {
   "cell_type": "code",
   "execution_count": 26,
   "id": "00d2c7cc-0685-4e22-babb-d56c1fc8f9ac",
   "metadata": {},
   "outputs": [],
   "source": [
    "coinbase_btcusdt['symbol'] = coinbase_btcusdt['symbol'].astype(str)\n",
    "coinbase_btcusdt['date'] = coinbase_btcusdt['date'].astype('int64')\n",
    "coinbase_btcusdt['price'] = coinbase_btcusdt['price'].astype('float64')\n",
    "coinbase_btcusdt['amount'] = coinbase_btcusdt['amount'].astype('float64')\n",
    "coinbase_btcusdt['sell'] = coinbase_btcusdt['sell'].astype(bool)"
   ]
  },
  {
   "cell_type": "code",
   "execution_count": 28,
   "id": "d96818b5-debf-49f7-a16a-8d4d67865e7e",
   "metadata": {},
   "outputs": [],
   "source": [
    "coinbase_btcusdt.to_parquet('/home/donlekout/Desktop/Thesis/Data/Coinbase/coinbase_btcusdt.parquet')"
   ]
  },
  {
   "cell_type": "markdown",
   "id": "f7b67c38-6833-427f-996b-fa80df708997",
   "metadata": {},
   "source": [
    "# Bitstamp BTCUSDT"
   ]
  },
  {
   "cell_type": "code",
   "execution_count": 4,
   "id": "b8357688-a0d3-4d0d-9a7f-cb0342b7739a",
   "metadata": {},
   "outputs": [],
   "source": [
    "bitstamp_btcusd = pd.DataFrame()\n",
    "\n",
    "path4 = '/home/donlekout/Desktop/Data/kaiko-trades/gz_v1/Bitstamp/BTCUSD/'\n",
    "\n",
    "for folder in os.listdir(path4):\n",
    "    newpath2 = path4 + str(folder)\n",
    "    for file in os.listdir(newpath2):\n",
    "        with gzip.open(os.path.join(newpath2, file)) as f:\n",
    "            temp = pd.read_csv(f, encoding='ISO-8859–1')\n",
    "            temp = temp[['symbol', 'date', 'price', 'amount', 'sell']]\n",
    "            bitstamp_btcusd = pd.concat((bitstamp_btcusd, temp))"
   ]
  },
  {
   "cell_type": "code",
   "execution_count": 12,
   "id": "d0cfebd2",
   "metadata": {},
   "outputs": [],
   "source": [
    "bitstamp_btcusd['date'] = pd.to_datetime(bitstamp_btcusd['date'], unit = 'ms')"
   ]
  },
  {
   "cell_type": "markdown",
   "id": "e72a9d9b-9e6d-4df7-87be-3d8ffbbdeb49",
   "metadata": {},
   "source": [
    "# Huobi BTCUSD"
   ]
  },
  {
   "cell_type": "code",
   "execution_count": 49,
   "id": "fda064a9-1505-435c-a2cd-1d70224f6592",
   "metadata": {},
   "outputs": [],
   "source": [
    "huobi_btcusd = pd.DataFrame()\n",
    "\n",
    "path5 = '/home/donlekout/Desktop/Data/kaiko-trades/gz_v1/Huobi/BTCUSD/'\n",
    "\n",
    "for folder in os.listdir(path5):\n",
    "    newpath2 = path5 + str(folder)\n",
    "    for file in os.listdir(newpath2):\n",
    "        with gzip.open(os.path.join(newpath2, file)) as f:\n",
    "            temp = pd.read_csv(f, encoding='ISO-8859–1')\n",
    "            temp = temp[['symbol', 'date', 'price', 'amount', 'sell']]\n",
    "            \n",
    "            huobi_btcusd = pd.concat((huobi_btcusd, temp))"
   ]
  },
  {
   "cell_type": "code",
   "execution_count": 53,
   "id": "651ca3f7-9af7-48c6-a199-7dfe4e502460",
   "metadata": {},
   "outputs": [],
   "source": [
    "huobi_btcusd = huobi_btcusd.sort_values('date')"
   ]
  },
  {
   "cell_type": "code",
   "execution_count": 54,
   "id": "5a15549e-3b96-433f-9be6-b7c0579dab76",
   "metadata": {},
   "outputs": [],
   "source": [
    "huobi_btcusd['symbol'] = temp['symbol'].astype(str)\n",
    "huobi_btcusd['date'] = temp['date'].astype('int64')\n",
    "huobi_btcusd['price'] = temp['price'].astype('float64')\n",
    "huobi_btcusd['amount'] = temp['amount'].astype('float64')\n",
    "huobi_btcusd['sell'] = temp['sell'].astype(bool)"
   ]
  },
  {
   "cell_type": "code",
   "execution_count": 55,
   "id": "1126146c-42aa-46c8-b888-1f30db0f861e",
   "metadata": {},
   "outputs": [],
   "source": [
    "huobi_btcusd.to_parquet('/home/donlekout/Desktop/Thesis/Data/Huobi/huobi_btcusd.parquet')"
   ]
  },
  {
   "cell_type": "markdown",
   "id": "a96037ec-143a-4c07-813d-82e8270209dc",
   "metadata": {},
   "source": [
    "# Huobi BTCUSDT"
   ]
  },
  {
   "cell_type": "code",
   "execution_count": 13,
   "id": "cfec510e-e1f7-46e2-9592-8fd6e23efb36",
   "metadata": {},
   "outputs": [],
   "source": [
    "huobi_btcusdt = pd.DataFrame()\n",
    "\n",
    "path5 = '/home/donlekout/Desktop/Data/kaiko-trades/gz_v1/Huobi/BTCUSDT/'\n",
    "\n",
    "counter = 0\n",
    "\n",
    "for folder in os.listdir(path5):\n",
    "    counter += 1\n",
    "    key = pd.DataFrame()\n",
    "   \n",
    "    newpath2 = path5 + str(folder)\n",
    "    for file in os.listdir(newpath2):\n",
    "        with gzip.open(os.path.join(newpath2, file)) as f:\n",
    "            temp = pd.read_csv(f, encoding='ISO-8859–1')\n",
    "            temp = temp[['symbol', 'date', 'price', 'amount', 'sell']]\n",
    "            key = pd.concat((key, temp))\n",
    "        \n",
    "    key.to_csv('/home/donlekout/Desktop/Thesis/Data/Huobi/'+str(folder)+'_BTCUSDT'+'.csv')\n",
    "    del key"
   ]
  },
  {
   "cell_type": "code",
   "execution_count": 29,
   "id": "c954ca17-f0d7-4ada-94a2-5bc3a067b19d",
   "metadata": {},
   "outputs": [],
   "source": [
    "fi = pd.read_csv('/home/donlekout/Desktop/Thesis/Data/Huobi/2020_11_BTCUSDT.csv')"
   ]
  },
  {
   "cell_type": "code",
   "execution_count": 33,
   "id": "60d1e4c0-349f-4c28-a7f7-e5a869e75da8",
   "metadata": {},
   "outputs": [],
   "source": [
    "path = '/home/donlekout/Desktop/Thesis/Data/Huobi/'\n",
    "\n",
    "for file in os.listdir(path):\n",
    "    name = str(file).replace('.csv', '')\n",
    "    \n",
    "    temp = pd.read_csv(path+str(file))[['symbol', 'date', 'price', 'amount', 'sell']]\n",
    "    \n",
    "    temp['symbol'] = temp['symbol'].astype(str)\n",
    "    temp['date'] = temp['date'].astype('int64')\n",
    "    temp['price'] = temp['price'].astype('float64')\n",
    "    temp['amount'] = temp['amount'].astype('float64')\n",
    "    temp['sell'] = temp['sell'].astype(bool)\n",
    "    \n",
    "    temp.to_parquet(path+name+'.parquet')\n",
    "    \n",
    "    del temp"
   ]
  },
  {
   "cell_type": "code",
   "execution_count": 41,
   "id": "e6be029c-2cc4-4b42-b14c-b0667d450892",
   "metadata": {},
   "outputs": [],
   "source": [
    "fi2 = pd.read_parquet('/home/donlekout/Desktop/Thesis/Data/Huobi/2020_11_BTCUSDT.parquet')"
   ]
  },
  {
   "cell_type": "code",
   "execution_count": 44,
   "id": "3205a338-e5f5-49cd-984d-e65c83bbc095",
   "metadata": {},
   "outputs": [],
   "source": [
    "for file in os.listdir(path):\n",
    "    name = str(file)\n",
    "    if '.csv' in name:\n",
    "        os.remove(path+name)"
   ]
  },
  {
   "cell_type": "code",
   "execution_count": 45,
   "id": "f00cbdcc-59ed-4749-aa78-595bd340dc11",
   "metadata": {},
   "outputs": [],
   "source": [
    "path = '/home/donlekout/Desktop/Thesis/Data/Huobi/'\n",
    "\n",
    "for file in os.listdir(path):\n",
    "    \n",
    "    temp = pd.read_parquet(path+str(file))\n",
    "    temp = temp.sort_values('date')\n",
    "    temp.to_parquet(path+str(file))\n",
    "    "
   ]
  },
  {
   "cell_type": "markdown",
   "id": "fc14d371-59de-4494-9689-568f7ed20d84",
   "metadata": {},
   "source": [
    "# Binance BTCUSDT"
   ]
  },
  {
   "cell_type": "code",
   "execution_count": 6,
   "id": "74ef209f-a538-4e60-88d8-39124dc9f730",
   "metadata": {},
   "outputs": [],
   "source": [
    "binance_btcusdt = pd.DataFrame()\n",
    "\n",
    "path5 = '/home/donlekout/Desktop/Data/kaiko-trades/gz_v1/Binance/BTCUSDT/'"
   ]
  },
  {
   "cell_type": "code",
   "execution_count": 12,
   "id": "8f6c857a-46b1-4758-a956-d523cc0fd390",
   "metadata": {},
   "outputs": [],
   "source": [
    "counter = 0\n",
    "\n",
    "for folder in os.listdir(path5):\n",
    "    counter += 1\n",
    "    key = pd.DataFrame()\n",
    "    globals()[f\"binance_btcusdt{counter}\"] = key\n",
    "   \n",
    "    newpath2 = path5 + str(folder)\n",
    "    for file in os.listdir(newpath2):\n",
    "        with gzip.open(os.path.join(newpath2, file)) as f:\n",
    "            temp = pd.read_csv(f, encoding='ISO-8859–1')\n",
    "            temp = temp[['symbol', 'date', 'price', 'amount', 'sell']]\n",
    "            key = pd.concat((key, temp))\n",
    "        \n",
    "    key.to_csv('/home/donlekout/Desktop/Thesis/Data/Binance/'+str(folder)+'.csv')\n",
    "    del key"
   ]
  },
  {
   "cell_type": "markdown",
   "id": "7aa14f70-2be7-477e-88ff-fa1c27b13737",
   "metadata": {},
   "source": [
    "# Binance BTCBUSD Perpetuals"
   ]
  },
  {
   "cell_type": "code",
   "execution_count": 3,
   "id": "55c8b39b-6317-4d6b-80f7-e958e61d3d20",
   "metadata": {},
   "outputs": [],
   "source": [
    "path5 = '/home/donlekout/Desktop/Data/kaiko-trades/gz_v1/Binance Futures/BTCBUSD/'\n",
    "\n",
    "for folder in os.listdir(path5):\n",
    "    key = pd.DataFrame()\n",
    "   \n",
    "    newpath2 = path5 + str(folder)\n",
    "    for file in os.listdir(newpath2):\n",
    "        with gzip.open(os.path.join(newpath2, file)) as f:\n",
    "            temp = pd.read_csv(f, encoding='ISO-8859–1')\n",
    "            temp = temp[['symbol', 'date', 'price', 'amount', 'sell']]\n",
    "            key = pd.concat((key, temp))\n",
    "        \n",
    "    key.to_csv('/home/donlekout/Desktop/Thesis/Data/Derivatives/Perpetuals/Binance/'+str(folder)+'.csv')\n",
    "    del key"
   ]
  },
  {
   "cell_type": "code",
   "execution_count": 57,
   "id": "300a2210-fb30-44a9-9525-a7e9ace74fe7",
   "metadata": {},
   "outputs": [],
   "source": [
    "fi = pd.read_csv('/home/donlekout/Desktop/Thesis/Data/Derivatives/Perpetuals/Binance/BTCBUSD/2021_08.csv')"
   ]
  },
  {
   "cell_type": "code",
   "execution_count": 61,
   "id": "33bab3eb-e07d-4e94-a610-90d52e375e12",
   "metadata": {},
   "outputs": [],
   "source": [
    "path = '/home/donlekout/Desktop/Thesis/Data/Derivatives/Perpetuals/Binance/BTCBUSD/'\n",
    "\n",
    "for file in os.listdir(path):\n",
    "    name = str(file).replace('.csv', '')\n",
    "    \n",
    "    temp = pd.read_csv(path+str(file))[['symbol', 'date', 'price', 'amount', 'sell']]\n",
    "    \n",
    "    temp['symbol'] = temp['symbol'].astype(str)\n",
    "    temp['date'] = temp['date'].astype('int64')\n",
    "    temp['price'] = temp['price'].astype('float64')\n",
    "    temp['amount'] = temp['amount'].astype('float64')\n",
    "    temp['sell'] = temp['sell'].astype(bool)\n",
    "    \n",
    "    temp = temp.sort_values('date')\n",
    "    \n",
    "    temp.to_parquet(path+name+'.parquet')\n",
    "    \n",
    "    del temp"
   ]
  },
  {
   "cell_type": "markdown",
   "id": "19d3d938-077d-42f7-a761-dab14ff2968a",
   "metadata": {},
   "source": [
    "# Binance BTCUSDT Perpetuals"
   ]
  },
  {
   "cell_type": "code",
   "execution_count": null,
   "id": "243a86fe-a010-4eba-b5a8-1410ac7399c1",
   "metadata": {},
   "outputs": [],
   "source": [
    "path5 = '/home/donlekout/Desktop/Data/kaiko-trades/gz_v1/Binance Futures/BTCUSDT/'\n",
    "\n",
    "for folder in os.listdir(path5):\n",
    "    key = pd.DataFrame()\n",
    "   \n",
    "    newpath2 = path5 + str(folder)\n",
    "    for file in os.listdir(newpath2):\n",
    "        with gzip.open(os.path.join(newpath2, file)) as f:\n",
    "            temp = pd.read_csv(f, encoding='ISO-8859–1')\n",
    "            temp = temp[['symbol', 'date', 'price', 'amount', 'sell']]\n",
    "            key = pd.concat((key, temp))\n",
    "        \n",
    "    key.to_csv('/home/donlekout/Desktop/Thesis/Data/Derivatives/Perpetuals/Binance/BTCUSDT/'+str(folder)+'.csv')\n",
    "    del key"
   ]
  },
  {
   "cell_type": "code",
   "execution_count": 68,
   "id": "bfb67598-af9b-4da0-b323-4f67577252b0",
   "metadata": {},
   "outputs": [],
   "source": [
    "fi = pd.read_csv('/home/donlekout/Desktop/Thesis/Data/Derivatives/Perpetuals/Binance/BTCUSDT/'+'2021_09.csv')"
   ]
  },
  {
   "cell_type": "code",
   "execution_count": 72,
   "id": "23e5c489-39da-40ba-ac3a-ebd23a7e1df6",
   "metadata": {},
   "outputs": [],
   "source": [
    "path = '/home/donlekout/Desktop/Thesis/Data/Derivatives/Perpetuals/Binance/BTCUSDT/'\n",
    "\n",
    "for file in os.listdir(path):\n",
    "    name = str(file).replace('.csv', '')\n",
    "    \n",
    "    temp = pd.read_csv(path+str(file))[['symbol', 'date', 'price', 'amount', 'sell']]\n",
    "    \n",
    "    temp['symbol'] = temp['symbol'].astype(str)\n",
    "    temp['date'] = temp['date'].astype('int64')\n",
    "    temp['price'] = temp['price'].astype('float64')\n",
    "    temp['amount'] = temp['amount'].astype('float64')\n",
    "    temp['sell'] = temp['sell'].astype(bool)\n",
    "    \n",
    "    temp = temp.sort_values('date')\n",
    "    \n",
    "    temp.to_parquet(path+name+'.parquet')\n",
    "    \n",
    "    del temp"
   ]
  },
  {
   "cell_type": "code",
   "execution_count": 73,
   "id": "f2d64fc8-e743-4e88-81bb-3c72230111ae",
   "metadata": {},
   "outputs": [],
   "source": [
    "path = '/home/donlekout/Desktop/Thesis/Data/Derivatives/Perpetuals/Binance/BTCUSDT/'\n",
    "for file in os.listdir(path):\n",
    "    name = str(file)\n",
    "    if '.csv' in name:\n",
    "        os.remove(path+name)"
   ]
  },
  {
   "cell_type": "markdown",
   "id": "38080e38-723f-4e01-a7c7-28339f3e0740",
   "metadata": {},
   "source": [
    "# Binance BTCUSD Perpetuals"
   ]
  },
  {
   "cell_type": "code",
   "execution_count": 3,
   "id": "5ed1f7a9-04e1-40c3-beac-3fd61c9deafc",
   "metadata": {},
   "outputs": [],
   "source": [
    "path5 = '/home/donlekout/Desktop/Data/kaiko-trades/gz_v1/Binance Futures/BTCUSDPERP/'\n",
    "\n",
    "for folder in os.listdir(path5):\n",
    "    key = pd.DataFrame()\n",
    "   \n",
    "    newpath2 = path5 + str(folder)\n",
    "    for file in os.listdir(newpath2):\n",
    "        with gzip.open(os.path.join(newpath2, file)) as f:\n",
    "            temp = pd.read_csv(f, encoding='ISO-8859–1')\n",
    "            temp = temp[['symbol', 'date', 'price', 'amount', 'sell']]\n",
    "            key = pd.concat((key, temp))\n",
    "        \n",
    "    key.to_csv('/home/donlekout/Desktop/Thesis/Data/Derivatives/Perpetuals/Binance/BTCUSD/'+str(folder)+'.csv')\n",
    "    del key"
   ]
  },
  {
   "cell_type": "code",
   "execution_count": null,
   "id": "4000a992-fb42-41bc-a9eb-08d58e8d5967",
   "metadata": {},
   "outputs": [],
   "source": [
    "path = '/home/donlekout/Desktop/Thesis/Data/Derivatives/Perpetuals/Binance/BTCUSD/'\n",
    "\n",
    "for file in os.listdir(path):\n",
    "    name = str(file).replace('.csv', '')\n",
    "    \n",
    "    temp = pd.read_csv(path+str(file))[['symbol', 'date', 'price', 'amount', 'sell']]\n",
    "    \n",
    "    temp['symbol'] = temp['symbol'].astype(str)\n",
    "    temp['date'] = temp['date'].astype('int64')\n",
    "    temp['price'] = temp['price'].astype('float64')\n",
    "    temp['amount'] = temp['amount'].astype('float64')\n",
    "    temp['sell'] = temp['sell'].astype(bool)\n",
    "    \n",
    "    temp = temp.sort_values('date')\n",
    "    \n",
    "    temp.to_parquet(path+name+'.parquet')\n",
    "    \n",
    "    del temp"
   ]
  },
  {
   "cell_type": "code",
   "execution_count": null,
   "id": "89afe2c2-ad1c-4c84-8e84-a10ef86962ab",
   "metadata": {},
   "outputs": [],
   "source": []
  },
  {
   "cell_type": "markdown",
   "id": "5f1ca302-e926-46ce-86cd-1a2528621247",
   "metadata": {},
   "source": [
    "# OKEX Perpetuals BTCUSDT"
   ]
  },
  {
   "cell_type": "code",
   "execution_count": 4,
   "id": "45152dfc-cb7e-47d8-97ca-53c51947b6f0",
   "metadata": {},
   "outputs": [],
   "source": [
    "okex_btcusdt = pd.DataFrame()\n",
    "\n",
    "path = '/home/donlekout/Desktop/Data/kaiko-trades/gz_v1/OkEX/BTCUSDTSWAP/'\n",
    "for folder in os.listdir(path):\n",
    "    newpath = path + str(folder)\n",
    "    for file in os.listdir(newpath):\n",
    "        with gzip.open(os.path.join(newpath, file)) as f:\n",
    "            temp = pd.read_csv(f, encoding='ISO-8859–1')\n",
    "            temp = temp[['symbol', 'date', 'price', 'amount', 'sell']]\n",
    "            okex_btcusdt = pd.concat((okex_btcusdt, temp))\n"
   ]
  },
  {
   "cell_type": "code",
   "execution_count": 6,
   "id": "c373ed24-f943-4c0a-90cf-44f295803e1e",
   "metadata": {},
   "outputs": [],
   "source": [
    "okex_btcusdt['symbol'] = okex_btcusdt['symbol'].astype(str)\n",
    "okex_btcusdt['date'] = okex_btcusdt['date'].astype('int64')\n",
    "okex_btcusdt['price'] = okex_btcusdt['price'].astype('float64')\n",
    "okex_btcusdt['amount'] = okex_btcusdt['amount'].astype('float64')\n",
    "okex_btcusdt['sell'] = okex_btcusdt['sell'].astype(bool)\n",
    "okex_btcusdt = okex_btcusdt.sort_values('date')"
   ]
  },
  {
   "cell_type": "code",
   "execution_count": 8,
   "id": "3d6f6224-c373-4e63-bfd3-7223b50b3e7d",
   "metadata": {},
   "outputs": [],
   "source": [
    "okex_btcusdt.to_parquet('/home/donlekout/Desktop/Thesis/Data/Derivatives/Perpetuals/OKEX/okex_btcusdt.parquet')"
   ]
  },
  {
   "cell_type": "markdown",
   "id": "fead66a3-84a2-42b0-a73f-17481751398e",
   "metadata": {},
   "source": [
    "# OKEX Perpetuals swaps BTCUSD"
   ]
  },
  {
   "cell_type": "code",
   "execution_count": 16,
   "id": "def36140-b5ea-4e88-abf3-d94f8e167a3b",
   "metadata": {},
   "outputs": [],
   "source": [
    "okex_btcusd = pd.DataFrame()\n",
    "\n",
    "path = '/home/donlekout/Desktop/Data/kaiko-trades/gz_v1/OkEX/BTCUSDSWAP/'\n",
    "for folder in os.listdir(path):\n",
    "    newpath = path + str(folder)\n",
    "    for file in os.listdir(newpath):\n",
    "        with gzip.open(os.path.join(newpath, file)) as f:\n",
    "            temp = pd.read_csv(f, encoding='ISO-8859–1')\n",
    "            temp = temp[['symbol', 'date', 'price', 'amount', 'sell']]\n",
    "            okex_btcusd = pd.concat((okex_btcusd, temp))\n"
   ]
  },
  {
   "cell_type": "code",
   "execution_count": 23,
   "id": "0b2d4cd9-3c88-48cb-a7c4-6c2baa1911f1",
   "metadata": {},
   "outputs": [
    {
     "name": "stdout",
     "output_type": "stream",
     "text": [
      "<class 'pandas.core.frame.DataFrame'>\n",
      "Int64Index: 161584051 entries, 0 to 126175\n",
      "Data columns (total 5 columns):\n",
      " #   Column  Dtype  \n",
      "---  ------  -----  \n",
      " 0   symbol  object \n",
      " 1   date    int64  \n",
      " 2   price   float64\n",
      " 3   amount  int64  \n",
      " 4   sell    bool   \n",
      "dtypes: bool(1), float64(1), int64(2), object(1)\n",
      "memory usage: 6.2+ GB\n"
     ]
    }
   ],
   "source": [
    "okex_btcusd.info()"
   ]
  },
  {
   "cell_type": "code",
   "execution_count": 22,
   "id": "90f7a67d-1dc3-4244-8a47-165b4082f170",
   "metadata": {},
   "outputs": [],
   "source": [
    "okex_btcusd['symbol'] = okex_btcusd['symbol'].astype(str)\n",
    "okex_btcusd['date'] = okex_btcusd['date'].astype('int64')\n",
    "okex_btcusd['price'] = okex_btcusd['price'].astype('float64')\n",
    "okex_btcusd['amount'] = okex_btcusd['amount'].astype('int64')\n",
    "okex_btcusd['sell'] = okex_btcusd['sell'].astype(bool)\n",
    "okex_btcusd = okex_btcusd.sort_values('date')"
   ]
  },
  {
   "cell_type": "code",
   "execution_count": 24,
   "id": "c6a406d8-44d8-47cd-b842-78a22e409e04",
   "metadata": {},
   "outputs": [],
   "source": [
    "okex_btcusd.to_parquet('/home/donlekout/Desktop/Thesis/Data/Derivatives/Perpetuals/OKEX/okex_btcusd.parquet')"
   ]
  },
  {
   "cell_type": "markdown",
   "id": "709b5643-fc26-45ec-9696-3a1cb72ed616",
   "metadata": {},
   "source": [
    "# OKEX Perpetuals BTCUSD"
   ]
  },
  {
   "cell_type": "code",
   "execution_count": 37,
   "id": "c2b2705a-0005-4554-9f9e-2c1c525b6f26",
   "metadata": {},
   "outputs": [],
   "source": [
    "okex_btcusd = pd.DataFrame()\n",
    "\n",
    "path = '/home/donlekout/Desktop/Data/kaiko-trades/gz_v1/OkEX/BTCUSDTHISWEEK/'\n",
    "for folder in os.listdir(path):\n",
    "    newpath = path + str(folder)\n",
    "    for file in os.listdir(newpath):\n",
    "        with gzip.open(os.path.join(newpath, file)) as f:\n",
    "            temp = pd.read_csv(f, encoding='ISO-8859–1')\n",
    "            temp = temp[['symbol', 'date', 'price', 'amount', 'sell']]\n",
    "            okex_btcusd = pd.concat((okex_btcusd, temp))\n"
   ]
  },
  {
   "cell_type": "code",
   "execution_count": 38,
   "id": "9b88e131-274c-47e0-83fa-c534c1ee5cd9",
   "metadata": {},
   "outputs": [
    {
     "name": "stdout",
     "output_type": "stream",
     "text": [
      "<class 'pandas.core.frame.DataFrame'>\n",
      "Int64Index: 37058723 entries, 0 to 89868\n",
      "Data columns (total 5 columns):\n",
      " #   Column  Dtype  \n",
      "---  ------  -----  \n",
      " 0   symbol  object \n",
      " 1   date    int64  \n",
      " 2   price   float64\n",
      " 3   amount  int64  \n",
      " 4   sell    bool   \n",
      "dtypes: bool(1), float64(1), int64(2), object(1)\n",
      "memory usage: 1.4+ GB\n"
     ]
    }
   ],
   "source": [
    "okex_btcusd.info()"
   ]
  },
  {
   "cell_type": "code",
   "execution_count": 39,
   "id": "485ac3fa-c02a-4596-abd5-e9ca68771eed",
   "metadata": {},
   "outputs": [],
   "source": [
    "okex_btcusd['symbol'] = okex_btcusd['symbol'].astype(str)\n",
    "okex_btcusd['date'] = okex_btcusd['date'].astype('int64')\n",
    "okex_btcusd['price'] = okex_btcusd['price'].astype('float64')\n",
    "okex_btcusd['amount'] = okex_btcusd['amount'].astype('int64')\n",
    "okex_btcusd['sell'] = okex_btcusd['sell'].astype(bool)\n",
    "okex_btcusd = okex_btcusd.sort_values('date')"
   ]
  },
  {
   "cell_type": "code",
   "execution_count": 40,
   "id": "b43d3fa4-609a-4cdc-91a1-4c32c0672fe4",
   "metadata": {},
   "outputs": [],
   "source": [
    "okex_btcusd.to_parquet('/home/donlekout/Desktop/Thesis/Data/Derivatives/Perpetuals/OKEX/okex_btcusd_thisweek.parquet')"
   ]
  },
  {
   "cell_type": "code",
   "execution_count": null,
   "id": "29de92db-20df-4a67-ac0a-f366fd159348",
   "metadata": {},
   "outputs": [],
   "source": []
  },
  {
   "cell_type": "markdown",
   "id": "cc100455-886f-44fd-9f6e-16838535039f",
   "metadata": {},
   "source": [
    "# OKEX Futures BTCUSDT"
   ]
  },
  {
   "cell_type": "code",
   "execution_count": 4,
   "id": "6b4d6b0f-d5d6-443e-9878-ab3ba21eb1d7",
   "metadata": {},
   "outputs": [],
   "source": [
    "folders = os.listdir('/home/donlekout/Desktop/Data/kaiko-trades/gz_v1/OkEX/')"
   ]
  },
  {
   "cell_type": "code",
   "execution_count": 5,
   "id": "d53def67-8c30-4c5e-b090-2f72bba88652",
   "metadata": {},
   "outputs": [],
   "source": [
    "hilo = ['BTCUSDTSWAP', 'BTCUSDSWAP', 'BTCUSDQUARTER', 'BTCUSDTHISWEEK', 'BTCUSDNEXTWEEK', 'BTCUSDPERPETUAL']\n",
    "for folder in hilo:\n",
    "    folders.remove(folder)"
   ]
  },
  {
   "cell_type": "code",
   "execution_count": 6,
   "id": "9026233b-d02a-4665-9276-8d074bea81c4",
   "metadata": {},
   "outputs": [],
   "source": [
    "usdt_okex = [folder for folder in folders if 'USDT' in str(folder)]"
   ]
  },
  {
   "cell_type": "code",
   "execution_count": 7,
   "id": "1bc70296-1e16-4bf6-88dd-607e259ddaee",
   "metadata": {},
   "outputs": [],
   "source": [
    "usd_okex = [folder for folder in folders if folder not in usdt_okex]"
   ]
  },
  {
   "cell_type": "code",
   "execution_count": 67,
   "id": "5e29c301-046c-45c0-ad40-8d4a04dad2c4",
   "metadata": {},
   "outputs": [],
   "source": [
    "dict_usdt = {}\n",
    "\n",
    "\n",
    "path = '/home/donlekout/Desktop/Data/kaiko-trades/gz_v1/OkEX/'\n",
    "for folder in usdt_okex:\n",
    "    newpath = path + str(folder)+'/'\n",
    "    okex_btcusdt = pd.DataFrame()\n",
    "    for folder2 in os.listdir(newpath):\n",
    "        newpath2 = newpath + str(folder2)\n",
    "        for file in os.listdir(newpath2):\n",
    "            with gzip.open(os.path.join(newpath2, file)) as f:\n",
    "                temp = pd.read_csv(f, encoding='ISO-8859–1')\n",
    "                temp = temp[['symbol', 'date', 'price', 'amount', 'sell']]\n",
    "                okex_btcusdt = pd.concat((okex_btcusdt, temp))\n",
    "    dict_usdt[folder] = okex_btcusdt\n",
    "        "
   ]
  },
  {
   "cell_type": "code",
   "execution_count": 74,
   "id": "56930598-2a5f-4a6d-979a-89491e17afe6",
   "metadata": {},
   "outputs": [],
   "source": [
    "temp = pd.concat([dict_usdt[folder].sort_values('date') for folder in usdt_okex], keys = usdt_okex)"
   ]
  },
  {
   "cell_type": "code",
   "execution_count": 76,
   "id": "f4139c47-3353-4905-b574-715f715737e1",
   "metadata": {},
   "outputs": [],
   "source": [
    "temp.to_parquet('/home/donlekout/Desktop/Thesis/Data/Derivatives/Futures/OKEX/btcusdt_okex_futures.parquet')"
   ]
  },
  {
   "cell_type": "markdown",
   "id": "4378ea9e-b02e-481b-9e22-30d4c5a1b279",
   "metadata": {},
   "source": [
    "# OKEX FUtures BTCUSD"
   ]
  },
  {
   "cell_type": "code",
   "execution_count": 8,
   "id": "86c0a16b-ccd0-440a-9267-c9d09c2348d2",
   "metadata": {},
   "outputs": [],
   "source": [
    "dict_usd = {}\n",
    "\n",
    "\n",
    "path = '/home/donlekout/Desktop/Data/kaiko-trades/gz_v1/OkEX/'\n",
    "for folder in usd_okex:\n",
    "    newpath = path + str(folder)+'/'\n",
    "    okex_btcusd = pd.DataFrame()\n",
    "    for folder2 in os.listdir(newpath):\n",
    "        newpath2 = newpath + str(folder2)\n",
    "        for file in os.listdir(newpath2):\n",
    "            with gzip.open(os.path.join(newpath2, file)) as f:\n",
    "                temp = pd.read_csv(f, encoding='ISO-8859–1')\n",
    "                temp = temp[['symbol', 'date', 'price', 'amount', 'sell']]\n",
    "                okex_btcusd = pd.concat((okex_btcusd, temp))\n",
    "    dict_usd[folder] = okex_btcusd  "
   ]
  },
  {
   "cell_type": "code",
   "execution_count": 9,
   "id": "57abd981-7013-44b6-b276-f5af06f2848d",
   "metadata": {},
   "outputs": [],
   "source": [
    "temp = pd.concat([dict_usd[folder].sort_values('date') for folder in usd_okex], keys = usd_okex)"
   ]
  },
  {
   "cell_type": "code",
   "execution_count": 11,
   "id": "898b83b7-1dca-4f66-b923-1294868ecf37",
   "metadata": {},
   "outputs": [],
   "source": [
    "temp.to_parquet('/home/donlekout/Desktop/Thesis/Data/Derivatives/Futures/OKEX/btcusd_okex_futures.parquet')"
   ]
  },
  {
   "cell_type": "code",
   "execution_count": 22,
   "id": "8c972ece-765e-48f7-9752-7240b7c63f92",
   "metadata": {},
   "outputs": [],
   "source": [
    "future_names = pd.concat((pd.Series(usd_okex), pd.Series(usdt_okex)), axis = 1)\n",
    "future_names.columns = ['USD_futures', 'USDT_futures']"
   ]
  },
  {
   "cell_type": "code",
   "execution_count": 24,
   "id": "cbd18341-655f-472d-8e55-c52ed44e6e95",
   "metadata": {},
   "outputs": [],
   "source": [
    "future_names.to_csv('/home/donlekout/Desktop/Thesis/Data/Derivatives/Futures/OKEX/future_names.csv')"
   ]
  },
  {
   "cell_type": "markdown",
   "id": "52311648-0134-4b5d-a906-47b2e4d36039",
   "metadata": {},
   "source": [
    "# Bybit Perpetuals"
   ]
  },
  {
   "cell_type": "code",
   "execution_count": 25,
   "id": "d95501a1-35c8-4f47-8853-32c9492c4fed",
   "metadata": {},
   "outputs": [],
   "source": [
    "bybit_btcusd = pd.DataFrame()\n",
    "\n",
    "path = '/home/donlekout/Desktop/Data/kaiko-trades/gz_v1/Bybit/BTCUSD/'\n",
    "for folder in os.listdir(path):\n",
    "    newpath = path + str(folder)\n",
    "    for file in os.listdir(newpath):\n",
    "        with gzip.open(os.path.join(newpath, file)) as f:\n",
    "            temp = pd.read_csv(f, encoding='ISO-8859–1')\n",
    "            temp = temp[['symbol', 'date', 'price', 'amount', 'sell']]\n",
    "            bybit_btcusd = pd.concat((bybit_btcusd, temp))\n"
   ]
  },
  {
   "cell_type": "code",
   "execution_count": 27,
   "id": "20184576-fba6-41b4-b23b-8c49d810ae53",
   "metadata": {},
   "outputs": [],
   "source": [
    "bybit_btcusd = bybit_btcusd.sort_values('date')"
   ]
  },
  {
   "cell_type": "code",
   "execution_count": 28,
   "id": "f9920d49-f9dd-430e-97a6-2c85653d7a05",
   "metadata": {},
   "outputs": [
    {
     "name": "stdout",
     "output_type": "stream",
     "text": [
      "<class 'pandas.core.frame.DataFrame'>\n",
      "Int64Index: 244139723 entries, 0 to 1107\n",
      "Data columns (total 5 columns):\n",
      " #   Column  Dtype  \n",
      "---  ------  -----  \n",
      " 0   symbol  object \n",
      " 1   date    int64  \n",
      " 2   price   float64\n",
      " 3   amount  int64  \n",
      " 4   sell    bool   \n",
      "dtypes: bool(1), float64(1), int64(2), object(1)\n",
      "memory usage: 9.3+ GB\n"
     ]
    }
   ],
   "source": [
    "bybit_btcusd.info()"
   ]
  },
  {
   "cell_type": "code",
   "execution_count": 29,
   "id": "8e42492f-f234-4762-a776-a70e03d19219",
   "metadata": {},
   "outputs": [],
   "source": [
    "bybit_btcusd.to_parquet('/home/donlekout/Desktop/Thesis/Data/Derivatives/Perpetuals/Bybit/btcusd_bybit.parquet')"
   ]
  },
  {
   "cell_type": "markdown",
   "id": "ab91c8ed-78c7-4de8-8c43-eae920cabf5c",
   "metadata": {},
   "source": [
    "# Bybit Futures"
   ]
  },
  {
   "cell_type": "code",
   "execution_count": 30,
   "id": "23cf6d22-7b50-4410-aa84-e5c4e9ef07b3",
   "metadata": {},
   "outputs": [],
   "source": [
    "bybit_futures = ['BTCUSDM21', 'BTCUSDU21', 'BTCUSDZ21']"
   ]
  },
  {
   "cell_type": "code",
   "execution_count": 31,
   "id": "450395cc-2ade-4f8b-b4fa-f492ce5a6ec4",
   "metadata": {},
   "outputs": [],
   "source": [
    "dict_bybit = {}\n",
    "\n",
    "\n",
    "path = '/home/donlekout/Desktop/Data/kaiko-trades/gz_v1/Bybit/'\n",
    "for folder in bybit_futures:\n",
    "    newpath = path + str(folder)+'/'\n",
    "    bybit_fut = pd.DataFrame()\n",
    "    for folder2 in os.listdir(newpath):\n",
    "        newpath2 = newpath + str(folder2)\n",
    "        for file in os.listdir(newpath2):\n",
    "            with gzip.open(os.path.join(newpath2, file)) as f:\n",
    "                temp = pd.read_csv(f, encoding='ISO-8859–1')\n",
    "                temp = temp[['symbol', 'date', 'price', 'amount', 'sell']]\n",
    "                bybit_fut = pd.concat((bybit_fut, temp))\n",
    "    dict_bybit[folder] = bybit_fut  "
   ]
  },
  {
   "cell_type": "code",
   "execution_count": 32,
   "id": "0a17654f-7aab-47e7-a276-8960eef7e756",
   "metadata": {},
   "outputs": [],
   "source": [
    "temp = pd.concat([dict_bybit[folder].sort_values('date') for folder in bybit_futures], keys = bybit_futures)"
   ]
  },
  {
   "cell_type": "code",
   "execution_count": 34,
   "id": "f7703480-f1a5-468b-959e-f3aaeb523e38",
   "metadata": {},
   "outputs": [],
   "source": [
    "temp.to_parquet('/home/donlekout/Desktop/Thesis/Data/Derivatives/Futures/Bybit/btcusd_bybit_futures.parquet')"
   ]
  },
  {
   "cell_type": "markdown",
   "id": "f56ee9c4-28d4-43b6-8086-9ad942a9f6c5",
   "metadata": {},
   "source": [
    "# Binance Futures"
   ]
  },
  {
   "cell_type": "code",
   "execution_count": 3,
   "id": "c7ca2bb8-b82d-4875-87d2-da4bd03ff412",
   "metadata": {},
   "outputs": [],
   "source": [
    "folders = os.listdir('/home/donlekout/Desktop/Data/kaiko-trades/gz_v1/Binance Futures')"
   ]
  },
  {
   "cell_type": "code",
   "execution_count": 4,
   "id": "a7e80dc5-8122-4209-8912-4359600a04ed",
   "metadata": {},
   "outputs": [],
   "source": [
    "remaining = [folder for folder in folders if not folder in ['BTCBUSD', 'BTCUSDPERP', 'BTCUSDT']]"
   ]
  },
  {
   "cell_type": "code",
   "execution_count": 5,
   "id": "cbd1be4d-1f3c-40f1-9188-4d0e8ce9fa01",
   "metadata": {},
   "outputs": [],
   "source": [
    "dict_binfut = {}\n",
    "\n",
    "\n",
    "path = '/home/donlekout/Desktop/Data/kaiko-trades/gz_v1/Binance Futures/'\n",
    "for folder in remaining:\n",
    "    newpath = path + str(folder)+'/'\n",
    "    bin_fut = pd.DataFrame()\n",
    "    for folder2 in os.listdir(newpath):\n",
    "        newpath2 = newpath + str(folder2)\n",
    "        for file in os.listdir(newpath2):\n",
    "            with gzip.open(os.path.join(newpath2, file)) as f:\n",
    "                temp = pd.read_csv(f, encoding='ISO-8859–1')\n",
    "                temp = temp[['symbol', 'date', 'price', 'amount', 'sell']]\n",
    "                bin_fut = pd.concat((bin_fut, temp))\n",
    "    dict_binfut[folder] = bin_fut  "
   ]
  },
  {
   "cell_type": "code",
   "execution_count": 6,
   "id": "e4316210-dcef-4f9d-be3d-312626ce5aa9",
   "metadata": {},
   "outputs": [],
   "source": [
    "temp = pd.concat([dict_binfut[folder].sort_values('date') for folder in remaining], keys = remaining)"
   ]
  },
  {
   "cell_type": "code",
   "execution_count": 8,
   "id": "720b4468-cdd3-4945-843b-6ad79c728fc6",
   "metadata": {},
   "outputs": [],
   "source": [
    "temp.to_parquet('/home/donlekout/Desktop/Thesis/Data/Derivatives/Futures/Binance/btcusd_t_binance_futures.parquet')"
   ]
  },
  {
   "cell_type": "markdown",
   "id": "e3119daf-88f3-4eb2-83ad-3a6c8663bfd1",
   "metadata": {},
   "source": [
    "# Deribit Perpetual"
   ]
  },
  {
   "cell_type": "code",
   "execution_count": 9,
   "id": "a15310c9-c86f-40ba-903d-ceae832b1075",
   "metadata": {},
   "outputs": [],
   "source": [
    "deribit_btcusd = pd.DataFrame()\n",
    "\n",
    "path = '/home/donlekout/Desktop/Data/kaiko-trades/gz_v1/Deribit/BTCPERPETUAL/'\n",
    "for folder in os.listdir(path):\n",
    "    newpath = path + str(folder)\n",
    "    for file in os.listdir(newpath):\n",
    "        with gzip.open(os.path.join(newpath, file)) as f:\n",
    "            temp = pd.read_csv(f, encoding='ISO-8859–1')\n",
    "            temp = temp[['symbol', 'date', 'price', 'amount', 'sell']]\n",
    "            deribit_btcusd = pd.concat((deribit_btcusd, temp))"
   ]
  },
  {
   "cell_type": "code",
   "execution_count": 10,
   "id": "552705c7-937b-48e3-a677-812fa6740a17",
   "metadata": {},
   "outputs": [],
   "source": [
    "deribit_btcusd = deribit_btcusd.sort_values('date')"
   ]
  },
  {
   "cell_type": "code",
   "execution_count": 12,
   "id": "a0f83302-65a9-4b14-8683-6c55dbd60514",
   "metadata": {},
   "outputs": [],
   "source": [
    "deribit_btcusd.to_parquet('/home/donlekout/Desktop/Thesis/Data/Derivatives/Perpetuals/Deribit/deribit_btcusd.parquet')"
   ]
  },
  {
   "cell_type": "markdown",
   "id": "45bc04ce-c29b-4145-b555-fd0749875ae9",
   "metadata": {},
   "source": [
    "# Deribit Futures"
   ]
  },
  {
   "cell_type": "code",
   "execution_count": 14,
   "id": "0569bbb6-40e6-4fd8-91ff-2f99e71b7b36",
   "metadata": {},
   "outputs": [],
   "source": [
    "folders = os.listdir('/home/donlekout/Desktop/Data/kaiko-trades/gz_v1/Deribit')"
   ]
  },
  {
   "cell_type": "code",
   "execution_count": 19,
   "id": "1f021fa1-751c-412c-9c73-7a50d8528b68",
   "metadata": {},
   "outputs": [],
   "source": [
    "dict_derfut = {}\n",
    "\n",
    "\n",
    "path = '/home/donlekout/Desktop/Data/kaiko-trades/gz_v1/Deribit/'\n",
    "for folder in folders:\n",
    "    newpath = path + str(folder)+'/'\n",
    "    der_fut = pd.DataFrame()\n",
    "    for folder2 in os.listdir(newpath):\n",
    "        newpath2 = newpath + str(folder2)\n",
    "        for file in os.listdir(newpath2):\n",
    "            with gzip.open(os.path.join(newpath2, file)) as f:\n",
    "                temp = pd.read_csv(f, encoding='ISO-8859–1')\n",
    "                temp = temp[['symbol', 'date', 'price', 'amount', 'sell']]\n",
    "                der_fut = pd.concat((der_fut, temp))\n",
    "    dict_derfut[folder] = der_fut  "
   ]
  },
  {
   "cell_type": "code",
   "execution_count": 20,
   "id": "5cdac2f4-5ba2-4749-a793-eced06c7a673",
   "metadata": {},
   "outputs": [],
   "source": [
    "temp = pd.concat([dict_derfut[folder].sort_values('date') for folder in folders], keys = folders)"
   ]
  },
  {
   "cell_type": "code",
   "execution_count": 22,
   "id": "9dfed25d-100b-4301-a6f1-138c0875d7a6",
   "metadata": {},
   "outputs": [],
   "source": [
    "temp.to_parquet('/home/donlekout/Desktop/Thesis/Data/Derivatives/Futures/Deribit/btcusd_futures_deribit.parquet')"
   ]
  },
  {
   "cell_type": "markdown",
   "id": "a8a2195b-5511-4ac1-8c81-e2917f04a668",
   "metadata": {},
   "source": [
    "# Huobi Perpetuals"
   ]
  },
  {
   "cell_type": "code",
   "execution_count": 8,
   "id": "d8b85290-fc69-44df-8c04-a32e846cebd9",
   "metadata": {},
   "outputs": [],
   "source": [
    "huobi_btcusd = pd.DataFrame()\n",
    "\n",
    "path = '/home/donlekout/Desktop/Data/kaiko-trades/gz_v1/Huobi Derivative Market/BTCUSD/'\n",
    "for folder in os.listdir(path):\n",
    "    newpath = path + str(folder)\n",
    "    for file in os.listdir(newpath):\n",
    "        with gzip.open(os.path.join(newpath, file)) as f:\n",
    "            temp = pd.read_csv(f, encoding='ISO-8859–1')\n",
    "            temp = temp[['symbol', 'date', 'price', 'amount', 'sell']]\n",
    "            huobi_btcusd = pd.concat((huobi_btcusd, temp))\n"
   ]
  },
  {
   "cell_type": "code",
   "execution_count": 11,
   "id": "4a8f5c95-3637-4740-9ae7-65675a8939f3",
   "metadata": {},
   "outputs": [],
   "source": [
    "huobi_btcusd = huobi_btcusd.sort_values('date')"
   ]
  },
  {
   "cell_type": "code",
   "execution_count": 12,
   "id": "4b561846-5149-45d4-bbb0-94a44d16b880",
   "metadata": {},
   "outputs": [],
   "source": [
    "huobi_btcusd.to_parquet('/home/donlekout/Desktop/Thesis/Data/Derivatives/Perpetuals/Huobi/huobi_btcusd.parquet')"
   ]
  },
  {
   "cell_type": "code",
   "execution_count": 13,
   "id": "ce11e843-4563-4c4a-a8ef-5d7626e7aaf9",
   "metadata": {},
   "outputs": [],
   "source": [
    "del huobi_btcusd"
   ]
  },
  {
   "cell_type": "code",
   "execution_count": 14,
   "id": "e688b4e1-841e-4b69-b4a2-20a3d2d6bcb3",
   "metadata": {},
   "outputs": [],
   "source": [
    "huobi_btcusdt = pd.DataFrame()\n",
    "\n",
    "path = '/home/donlekout/Desktop/Data/kaiko-trades/gz_v1/Huobi Derivative Market/BTCUSDT/'\n",
    "for folder in os.listdir(path):\n",
    "    newpath = path + str(folder)\n",
    "    for file in os.listdir(newpath):\n",
    "        with gzip.open(os.path.join(newpath, file)) as f:\n",
    "            temp = pd.read_csv(f, encoding='ISO-8859–1')\n",
    "            temp = temp[['symbol', 'date', 'price', 'amount', 'sell']]\n",
    "            huobi_btcusdt = pd.concat((huobi_btcusdt, temp))\n"
   ]
  },
  {
   "cell_type": "code",
   "execution_count": 18,
   "id": "f2da18a4-861c-4de9-9ce3-562cc4aaa4cc",
   "metadata": {},
   "outputs": [],
   "source": [
    "huobi_btcusdt.to_parquet('/home/donlekout/Desktop/Thesis/Data/Derivatives/Perpetuals/Huobi/huobi_btcusdt.parquet')"
   ]
  },
  {
   "cell_type": "markdown",
   "id": "d64c5ed3-8e68-4382-bee6-be48b164fa68",
   "metadata": {},
   "source": [
    "# Huobi Futures"
   ]
  },
  {
   "cell_type": "code",
   "execution_count": 21,
   "id": "3fdd4de4-ae2f-4d0c-9518-fea40164692a",
   "metadata": {},
   "outputs": [],
   "source": [
    "folders = ['BTCCW', 'BTCNQ', 'BTCNW']"
   ]
  },
  {
   "cell_type": "code",
   "execution_count": 22,
   "id": "3ef3c1c8-8645-424b-b0cf-bac6b1a95d8e",
   "metadata": {},
   "outputs": [],
   "source": [
    "huobi_fut = {}\n",
    "\n",
    "\n",
    "path = '/home/donlekout/Desktop/Data/kaiko-trades/gz_v1/Huobi Derivative Market/'\n",
    "for folder in folders:\n",
    "    newpath = path + str(folder)+'/'\n",
    "    hub_fut = pd.DataFrame()\n",
    "    for folder2 in os.listdir(newpath):\n",
    "        newpath2 = newpath + str(folder2)\n",
    "        for file in os.listdir(newpath2):\n",
    "            with gzip.open(os.path.join(newpath2, file)) as f:\n",
    "                temp = pd.read_csv(f, encoding='ISO-8859–1')\n",
    "                temp = temp[['symbol', 'date', 'price', 'amount', 'sell']]\n",
    "                hub_fut = pd.concat((hub_fut, temp))\n",
    "    huobi_fut[folder] = hub_fut  "
   ]
  },
  {
   "cell_type": "code",
   "execution_count": 23,
   "id": "8293809d-0691-47f0-9396-e70485c2c764",
   "metadata": {},
   "outputs": [],
   "source": [
    "temp = pd.concat([huobi_fut[folder].sort_values('date') for folder in folders], keys = folders)"
   ]
  },
  {
   "cell_type": "code",
   "execution_count": 26,
   "id": "96cc53a7-9950-4dfb-8649-ae9b53775b7c",
   "metadata": {},
   "outputs": [],
   "source": [
    "temp.to_parquet('/home/donlekout/Desktop/Thesis/Data/Derivatives/Futures/Huobi/btccw_btcnq_btcnw_huobi.parquet')"
   ]
  },
  {
   "cell_type": "code",
   "execution_count": 3,
   "id": "23ca8622-2b19-4dae-af8f-ef91cdd02ff0",
   "metadata": {},
   "outputs": [],
   "source": [
    "huobi_btccq = pd.DataFrame()\n",
    "\n",
    "path = '/home/donlekout/Desktop/Data/kaiko-trades/gz_v1/Huobi Derivative Market/BTCCQ/'\n",
    "for folder in os.listdir(path):\n",
    "    newpath = path + str(folder)\n",
    "    for file in os.listdir(newpath):\n",
    "        with gzip.open(os.path.join(newpath, file)) as f:\n",
    "            temp = pd.read_csv(f, encoding='ISO-8859–1')\n",
    "            temp = temp[['symbol', 'date', 'price', 'amount', 'sell']]\n",
    "            huobi_btccq = pd.concat((huobi_btccq, temp))"
   ]
  },
  {
   "cell_type": "code",
   "execution_count": 9,
   "id": "f4eade41",
   "metadata": {},
   "outputs": [],
   "source": [
    "huobi_btccq = huobi_btccq.sort_values('date')"
   ]
  },
  {
   "cell_type": "code",
   "execution_count": 11,
   "id": "04e0e2dd",
   "metadata": {},
   "outputs": [],
   "source": [
    "huobi_btccq.to_parquet('/home/donlekout/Desktop/Thesis/Data/Derivatives/Futures/Huobi/btccq_huobi.parquet')"
   ]
  },
  {
   "cell_type": "code",
   "execution_count": 3,
   "id": "f280c53e",
   "metadata": {},
   "outputs": [],
   "source": [
    "fi = pd.read_parquet('/home/donlekout/Desktop/Thesis/Data/Derivatives/Futures/Huobi/btccq_huobi.parquet')"
   ]
  },
  {
   "cell_type": "code",
   "execution_count": 4,
   "id": "e02af756",
   "metadata": {},
   "outputs": [],
   "source": [
    "yi = int(fi.shape[0]/2)\n",
    "fi2 = fi.iloc[:yi, :].copy()"
   ]
  },
  {
   "cell_type": "code",
   "execution_count": 5,
   "id": "21ae9fbc",
   "metadata": {},
   "outputs": [],
   "source": [
    "%xdel fi"
   ]
  },
  {
   "cell_type": "code",
   "execution_count": 6,
   "id": "937451dc",
   "metadata": {},
   "outputs": [
    {
     "data": {
      "text/plain": [
       "0"
      ]
     },
     "execution_count": 6,
     "metadata": {},
     "output_type": "execute_result"
    }
   ],
   "source": [
    "gc.collect()"
   ]
  }
 ],
 "metadata": {
  "interpreter": {
   "hash": "84661259f616df519117bfd9ac2251d7bb15de478f4a890b034a09f58af98369"
  },
  "kernelspec": {
   "display_name": "Python 3 (ipykernel)",
   "language": "python",
   "name": "python3"
  },
  "language_info": {
   "codemirror_mode": {
    "name": "ipython",
    "version": 3
   },
   "file_extension": ".py",
   "mimetype": "text/x-python",
   "name": "python",
   "nbconvert_exporter": "python",
   "pygments_lexer": "ipython3",
   "version": "3.8.12"
  },
  "toc-showtags": false
 },
 "nbformat": 4,
 "nbformat_minor": 5
}
