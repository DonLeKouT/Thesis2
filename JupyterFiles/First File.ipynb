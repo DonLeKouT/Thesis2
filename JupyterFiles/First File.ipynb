{
 "cells": [
  {
   "cell_type": "code",
   "execution_count": 45,
   "id": "d22d6ee9",
   "metadata": {},
   "outputs": [],
   "source": [
    "import numpy as np\n",
    "import pandas as pd\n",
    "import matplotlib.pyplot as plt\n",
    "import os\n",
    "import gc"
   ]
  },
  {
   "cell_type": "code",
   "execution_count": 261,
   "id": "7ce2be1a",
   "metadata": {},
   "outputs": [],
   "source": [
    "coinbase_btcusd = pd.read_parquet('/home/donlekout/Desktop/Thesis/Data/Coinbase/coinbase_btcusd.parquet')\n",
    "coinbase_btcusd['date'] = pd.to_datetime(coinbase_btcusd['date'], unit = 'ms')\n",
    "coinbase_btcusd = coinbase_btcusd.set_index('date', drop=True)\n",
    "coinbase_btcusd2 = coinbase_btcusd[['price', 'amount', 'sell']].copy()"
   ]
  },
  {
   "cell_type": "code",
   "execution_count": 2,
   "id": "69a16439",
   "metadata": {},
   "outputs": [],
   "source": [
    "files = os.listdir('/home/donlekout/Desktop/Thesis/Data/Binance')\n",
    "files_2017_2018_2019 = [_ for _ in files if (('2017' in str(_)) | ('2018' in str(_)) | ('2019' in str(_)))]\n",
    "files_2020 = [_ for _ in files if ('2020' in str(_))]\n",
    "files_2021 = [_ for _ in files if ('2021' in str(_))]"
   ]
  },
  {
   "cell_type": "code",
   "execution_count": 6,
   "id": "3f4228f9",
   "metadata": {},
   "outputs": [],
   "source": [
    "binance_spot_2017_2018_2019 = pd.DataFrame()\n",
    "\n",
    "for file in files_2017_2018_2019:\n",
    "    openfile = pd.read_parquet('/home/donlekout/Desktop/Thesis/Data/Binance/'+str(file))\n",
    "    binance_spot_2017_2018_2019 = pd.concat((binance_spot_2017_2018_2019, openfile), axis = 0)\n",
    "    del openfile\n",
    "\n",
    "binance_spot_2017_2018_2019 = binance_spot_2017_2018_2019.sort_values('date')\n",
    "binance_spot_2017_2018_2019['date'] = pd.to_datetime(binance_spot_2017_2018_2019['date'], unit = 'ms')\n",
    "binance_spot_2017_2018_2019 = binance_spot_2017_2018_2019.set_index('date', drop = True)"
   ]
  },
  {
   "cell_type": "code",
   "execution_count": 15,
   "id": "768ca7c2",
   "metadata": {},
   "outputs": [],
   "source": [
    "binance_spot_btcusdt_2017_2018_2019 = binance_spot_2017_2018_2019[['price', 'amount', 'sell']].copy()"
   ]
  },
  {
   "cell_type": "code",
   "execution_count": 11,
   "id": "791ebfe4",
   "metadata": {},
   "outputs": [],
   "source": [
    "binance_spot_2020 = pd.DataFrame()\n",
    "\n",
    "for file in files_2020:\n",
    "    openfile = pd.read_parquet('/home/donlekout/Desktop/Thesis/Data/Binance/'+str(file))\n",
    "    binance_spot_2020 = pd.concat((binance_spot_2020, openfile), axis = 0)\n",
    "    del openfile\n",
    "\n",
    "binance_spot_2020 = binance_spot_2020.sort_values('date')\n",
    "binance_spot_2020 = binance_spot_2020.sort_values('date')\n",
    "binance_spot_2020['date'] = pd.to_datetime(binance_spot_2020['date'], unit = 'ms')\n",
    "binance_spot_2020 = binance_spot_2020.set_index('date', drop = True)"
   ]
  },
  {
   "cell_type": "code",
   "execution_count": 13,
   "id": "10fc7884",
   "metadata": {},
   "outputs": [],
   "source": [
    "binance_spot_2020 = binance_spot_2020[['price', 'amount', 'sell']].copy()"
   ]
  },
  {
   "cell_type": "code",
   "execution_count": 15,
   "id": "bc2e9652",
   "metadata": {},
   "outputs": [],
   "source": [
    "binance_spot_2020.to_parquet('/home/donlekout/Desktop/Thesis/Data/Binance/binance_spot_btcusdt_2020.parquet')"
   ]
  },
  {
   "cell_type": "code",
   "execution_count": 4,
   "id": "ce2209e4",
   "metadata": {},
   "outputs": [],
   "source": [
    "binance_spot_2021 = pd.DataFrame()\n",
    "\n",
    "for file in files_2021:\n",
    "    openfile = pd.read_parquet('/home/donlekout/Desktop/Thesis/Data/Binance/'+str(file))\n",
    "    binance_spot_2021 = pd.concat((binance_spot_2021, openfile), axis = 0)\n",
    "    del openfile\n",
    "\n",
    "binance_spot_2021 = binance_spot_2021.sort_values('date')\n",
    "binance_spot_2021 = binance_spot_2021.sort_values('date')\n",
    "binance_spot_2021['date'] = pd.to_datetime(binance_spot_2021['date'], unit = 'ms')\n",
    "binance_spot_2021 = binance_spot_2021.set_index('date', drop = True)"
   ]
  },
  {
   "cell_type": "code",
   "execution_count": 5,
   "id": "85fdea0f",
   "metadata": {},
   "outputs": [],
   "source": [
    "binance_spot_2021 = binance_spot_2021[['price', 'amount', 'sell']].copy()"
   ]
  },
  {
   "cell_type": "code",
   "execution_count": 8,
   "id": "7e6b2181",
   "metadata": {},
   "outputs": [],
   "source": [
    "binance_spot_2021.to_parquet('/home/donlekout/Desktop/Thesis/Data/Binance/binance_spot_btcusdt_2021.parquet')"
   ]
  },
  {
   "cell_type": "code",
   "execution_count": 19,
   "id": "38bee9dc",
   "metadata": {},
   "outputs": [],
   "source": [
    "for file in os.listdir('/home/donlekout/Desktop/Thesis/Data/Bitstamp'):\n",
    "    openfile = pd.read_parquet('/home/donlekout/Desktop/Thesis/Data/Bitstamp/'+str(file))\n",
    "    openfile = openfile.sort_values('date')\n",
    "    openfile = openfile.sort_values('date')\n",
    "    openfile['date'] = pd.to_datetime(openfile['date'], unit = 'ms')\n",
    "    openfile = openfile.set_index('date', drop = True)\n",
    "    openfile = openfile[['price', 'amount', 'sell']]\n",
    "    openfile.to_parquet('/home/donlekout/Desktop/Thesis/Data/Bitstamp/'+str(file)+str(2))"
   ]
  },
  {
   "cell_type": "code",
   "execution_count": 29,
   "id": "cae57973",
   "metadata": {},
   "outputs": [],
   "source": [
    "pig = pd.read_parquet('/home/donlekout/Desktop/Thesis/Data/Coinbase/coinbase_btcusdt.parquet')"
   ]
  },
  {
   "cell_type": "code",
   "execution_count": 31,
   "id": "6a461b24",
   "metadata": {},
   "outputs": [],
   "source": [
    "pig = pig.sort_values('date')\n",
    "pig = pig.sort_values('date')\n",
    "pig['date'] = pd.to_datetime(pig['date'], unit = 'ms')\n",
    "pig = pig.set_index('date', drop = True)\n",
    "pig = pig[['price', 'amount', 'sell']]"
   ]
  },
  {
   "cell_type": "code",
   "execution_count": 33,
   "id": "c943a091",
   "metadata": {},
   "outputs": [],
   "source": [
    "pig.to_parquet('/home/donlekout/Desktop/Thesis/Data/Coinbase/coinbase_btcusdt2.parquet')"
   ]
  },
  {
   "cell_type": "code",
   "execution_count": 41,
   "id": "27186ed1",
   "metadata": {},
   "outputs": [],
   "source": [
    "huobi_files = os.listdir('/home/donlekout/Desktop/Thesis/Data/Huobi')\n",
    "huobi_files_2018_2019_2020 = [_ for _ in huobi_files if (('2020' in str(_)) | ('2018' in str(_)) | ('2019' in str(_)))]\n",
    "huobi_files_2021 = [_ for _ in huobi_files if _ not in huobi_files_2018_2019_2020]\n",
    "huobi_files_2021.remove('huobi_btcusd.parquet')"
   ]
  },
  {
   "cell_type": "code",
   "execution_count": 43,
   "id": "8700000f",
   "metadata": {},
   "outputs": [],
   "source": [
    "huobi_spot_2018_2019_2020 = pd.DataFrame()\n",
    "\n",
    "for file in huobi_files_2018_2019_2020:\n",
    "    openfile = pd.read_parquet('/home/donlekout/Desktop/Thesis/Data/Huobi/'+str(file))\n",
    "    huobi_spot_2018_2019_2020 = pd.concat((huobi_spot_2018_2019_2020, openfile), axis = 0)\n",
    "    del openfile\n",
    "\n",
    "\n",
    "huobi_spot_2018_2019_2020 = huobi_spot_2018_2019_2020.sort_values('date')\n",
    "huobi_spot_2018_2019_2020['date'] = pd.to_datetime(huobi_spot_2018_2019_2020['date'], unit = 'ms')\n",
    "huobi_spot_2018_2019_2020 = huobi_spot_2018_2019_2020.set_index('date', drop = True)\n",
    "huobi_spot_2018_2019_2020 = huobi_spot_2018_2019_2020[['price', 'amount', 'sell']].copy()"
   ]
  },
  {
   "cell_type": "code",
   "execution_count": 46,
   "id": "a5ee765f",
   "metadata": {},
   "outputs": [],
   "source": [
    "huobi_spot_2018_2019_2020.to_parquet('/home/donlekout/Desktop/Thesis/Data/Huobi/huobi_spot_btcusdt_2018_2019_2020')"
   ]
  },
  {
   "cell_type": "code",
   "execution_count": 47,
   "id": "66730cdc",
   "metadata": {},
   "outputs": [],
   "source": [
    "huobi_spot_2021 = pd.DataFrame()\n",
    "\n",
    "for file in huobi_files_2021:\n",
    "    openfile = pd.read_parquet('/home/donlekout/Desktop/Thesis/Data/Huobi/'+str(file))\n",
    "    huobi_spot_2021 = pd.concat((huobi_spot_2021, openfile), axis = 0)\n",
    "    del openfile\n",
    "\n",
    "\n",
    "huobi_spot_2021 = huobi_spot_2021.sort_values('date')\n",
    "huobi_spot_2021['date'] = pd.to_datetime(huobi_spot_2021['date'], unit = 'ms')\n",
    "huobi_spot_2021 = huobi_spot_2021.set_index('date', drop = True)\n",
    "huobi_spot_2021 = huobi_spot_2021[['price', 'amount', 'sell']].copy()"
   ]
  },
  {
   "cell_type": "code",
   "execution_count": 51,
   "id": "ac8e7a1d",
   "metadata": {},
   "outputs": [],
   "source": [
    "huobi_spot_2021.to_parquet('/home/donlekout/Desktop/Thesis/Data/Huobi/huobi_spot_btcusdt_2021')"
   ]
  },
  {
   "cell_type": "code",
   "execution_count": 64,
   "id": "586a0265",
   "metadata": {},
   "outputs": [],
   "source": [
    "for file in os.listdir('/home/donlekout/Desktop/Thesis/Data/Kraken'):\n",
    "    openfile = pd.read_parquet('/home/donlekout/Desktop/Thesis/Data/Kraken/'+str(file))\n",
    "    openfile = openfile.sort_values('date')\n",
    "    openfile = openfile.sort_values('date')\n",
    "    openfile['date'] = pd.to_datetime(openfile['date'], unit = 'ms')\n",
    "    openfile = openfile.set_index('date', drop = True)\n",
    "    openfile = openfile[['price', 'amount', 'sell']]\n",
    "    openfile.to_parquet('/home/donlekout/Desktop/Thesis/Data/Kraken/'+str(file)+str(2))"
   ]
  },
  {
   "cell_type": "code",
   "execution_count": 65,
   "id": "761c29f5",
   "metadata": {},
   "outputs": [],
   "source": [
    "tara = pd.read_parquet('/home/donlekout/Desktop/Thesis/Data/Kraken/kraken_btcusd.parquet2')"
   ]
  },
  {
   "cell_type": "code",
   "execution_count": 2,
   "id": "5ebf92c3",
   "metadata": {},
   "outputs": [],
   "source": [
    "binance_perp_btcbusd = pd.DataFrame()\n",
    "\n",
    "for file in os.listdir('/home/donlekout/Desktop/Thesis/Data/Derivatives/Perpetuals/Binance/BTCBUSD'):\n",
    "    openfile = pd.read_parquet('/home/donlekout/Desktop/Thesis/Data/Derivatives/Perpetuals/Binance/BTCBUSD/'+str(file))\n",
    "    binance_perp_btcbusd = pd.concat((binance_perp_btcbusd, openfile), axis = 0)\n",
    "    del openfile\n",
    "\n",
    "\n",
    "binance_perp_btcbusd = binance_perp_btcbusd.sort_values('date')\n",
    "binance_perp_btcbusd['date'] = pd.to_datetime(binance_perp_btcbusd['date'], unit = 'ms')\n",
    "binance_perp_btcbusd = binance_perp_btcbusd.set_index('date', drop = True)\n",
    "binance_perp_btcbusd = binance_perp_btcbusd[['price', 'amount', 'sell']].copy()"
   ]
  },
  {
   "cell_type": "code",
   "execution_count": 5,
   "id": "0e0e6cf6",
   "metadata": {},
   "outputs": [],
   "source": [
    "binance_perp_btcbusd.to_parquet('/home/donlekout/Desktop/Thesis/Data/Derivatives/Perpetuals/Binance/BTCBUSD/binance_perp_btcbusd.parquet')"
   ]
  },
  {
   "cell_type": "code",
   "execution_count": 7,
   "id": "b60ce547",
   "metadata": {},
   "outputs": [],
   "source": [
    "binance_perp_btcusd = pd.DataFrame()\n",
    "\n",
    "for file in os.listdir('/home/donlekout/Desktop/Thesis/Data/Derivatives/Perpetuals/Binance/BTCUSDPERP'):\n",
    "    openfile = pd.read_parquet('/home/donlekout/Desktop/Thesis/Data/Derivatives/Perpetuals/Binance/BTCUSDPERP/'+str(file))\n",
    "    binance_perp_btcusd = pd.concat((binance_perp_btcusd, openfile), axis = 0)\n",
    "    del openfile\n",
    "\n",
    "\n",
    "binance_perp_btcusd = binance_perp_btcusd.sort_values('date')\n",
    "binance_perp_btcusd['date'] = pd.to_datetime(binance_perp_btcusd['date'], unit = 'ms')\n",
    "binance_perp_btcusd = binance_perp_btcusd.set_index('date', drop = True)\n",
    "binance_perp_btcusd = binance_perp_btcusd[['price', 'amount', 'sell']].copy()"
   ]
  },
  {
   "cell_type": "code",
   "execution_count": 9,
   "id": "8a68cef1",
   "metadata": {},
   "outputs": [],
   "source": [
    "binance_perp_btcusd.to_parquet('/home/donlekout/Desktop/Thesis/Data/Derivatives/Perpetuals/Binance/BTCUSDPERP/binance_perp_btcusd.parquet')"
   ]
  },
  {
   "cell_type": "code",
   "execution_count": 2,
   "id": "d2a12806",
   "metadata": {},
   "outputs": [],
   "source": [
    "files_binance_perp_usdt = os.listdir('/home/donlekout/Desktop/Thesis/Data/Derivatives/Perpetuals/Binance/BTCUSDT')\n",
    "files_binance_perp_usdt_2019_2020 = [_ for _ in files_binance_perp_usdt if (('2020' in str(_)) | ('2019' in str(_)))]\n",
    "files_binance_perp_usdt_2021 = [_ for _ in files_binance_perp_usdt if _ not in files_binance_perp_usdt_2019_2020]"
   ]
  },
  {
   "cell_type": "code",
   "execution_count": 17,
   "id": "b207fd2e",
   "metadata": {},
   "outputs": [],
   "source": [
    "binance_perp_btcusdt_2019_2020 = pd.DataFrame()\n",
    "\n",
    "for file in files_binance_perp_usdt_2019_2020:\n",
    "    openfile = pd.read_parquet('/home/donlekout/Desktop/Thesis/Data/Derivatives/Perpetuals/Binance/BTCUSDT/'+str(file))\n",
    "    binance_perp_btcusdt_2019_2020 = pd.concat((binance_perp_btcusdt_2019_2020, openfile), axis = 0)\n",
    "    del openfile\n",
    "\n",
    "\n",
    "binance_perp_btcusdt_2019_2020 = binance_perp_btcusdt_2019_2020.sort_values('date')\n",
    "binance_perp_btcusdt_2019_2020['date'] = pd.to_datetime(binance_perp_btcusdt_2019_2020['date'], unit = 'ms')\n",
    "binance_perp_btcusdt_2019_2020 = binance_perp_btcusdt_2019_2020.set_index('date', drop = True)\n",
    "binance_perp_btcusdt_2019_2020 = binance_perp_btcusdt_2019_2020[['price', 'amount', 'sell']].copy()"
   ]
  },
  {
   "cell_type": "code",
   "execution_count": 19,
   "id": "6c82a3a4",
   "metadata": {},
   "outputs": [],
   "source": [
    "binance_perp_btcusdt_2019_2020.to_parquet('/home/donlekout/Desktop/Thesis/Data/Derivatives/Perpetuals/Binance/BTCUSDT/binance_perp_btcusdt_2019_2020.parquet')"
   ]
  },
  {
   "cell_type": "code",
   "execution_count": 3,
   "id": "2e9a85f3",
   "metadata": {},
   "outputs": [],
   "source": [
    "binance_perp_btcusdt_2021 = pd.DataFrame()\n",
    "\n",
    "for file in files_binance_perp_usdt_2021:\n",
    "    openfile = pd.read_parquet('/home/donlekout/Desktop/Thesis/Data/Derivatives/Perpetuals/Binance/BTCUSDT/'+str(file))\n",
    "    binance_perp_btcusdt_2021 = pd.concat((binance_perp_btcusdt_2021, openfile), axis = 0)\n",
    "    del openfile\n",
    "\n",
    "\n",
    "binance_perp_btcusdt_2021 = binance_perp_btcusdt_2021.sort_values('date')\n",
    "binance_perp_btcusdt_2021['date'] = pd.to_datetime(binance_perp_btcusdt_2021['date'], unit = 'ms')\n",
    "binance_perp_btcusdt_2021 = binance_perp_btcusdt_2021.set_index('date', drop = True)\n",
    "binance_perp_btcusdt_2021 = binance_perp_btcusdt_2021[['price', 'amount', 'sell']].copy()"
   ]
  },
  {
   "cell_type": "code",
   "execution_count": 5,
   "id": "2046ab62",
   "metadata": {},
   "outputs": [],
   "source": [
    "binance_perp_btcusdt_2021.to_parquet('/home/donlekout/Desktop/Thesis/Data/Derivatives/Perpetuals/Binance/BTCUSDT/binance_perp_btcusdt_2021.parquet')"
   ]
  },
  {
   "cell_type": "code",
   "execution_count": 28,
   "id": "4c94c927",
   "metadata": {},
   "outputs": [],
   "source": [
    "for file in os.listdir('/home/donlekout/Desktop/Thesis/Data/Derivatives/Perpetuals/OKEX/'):\n",
    "    openfile = pd.read_parquet('/home/donlekout/Desktop/Thesis/Data/Derivatives/Perpetuals/OKEX/'+str(file))\n",
    "    openfile = openfile.sort_values('date')\n",
    "    openfile = openfile.sort_values('date')\n",
    "    openfile['date'] = pd.to_datetime(openfile['date'], unit = 'ms')\n",
    "    openfile = openfile.set_index('date', drop = True)\n",
    "    openfile = openfile[['price', 'amount', 'sell']]\n",
    "    openfile.to_parquet('/home/donlekout/Desktop/Thesis/Data/Derivatives/Perpetuals/OKEX/'+str(file)+str(2))"
   ]
  },
  {
   "cell_type": "code",
   "execution_count": 9,
   "id": "d7f16372",
   "metadata": {},
   "outputs": [],
   "source": [
    "kaka = pd.read_parquet('/home/donlekout/Desktop/Thesis/Data/Derivatives/Perpetuals/Huobi/huobi_btcusdt.parquet2')"
   ]
  },
  {
   "cell_type": "code",
   "execution_count": 15,
   "id": "185abe07",
   "metadata": {},
   "outputs": [],
   "source": [
    "%reset -f"
   ]
  },
  {
   "cell_type": "code",
   "execution_count": 18,
   "id": "fa82b706",
   "metadata": {},
   "outputs": [],
   "source": [
    "der = pd.read_parquet('/home/donlekout/Desktop/Thesis/Data/Derivatives/Perpetuals/Deribit/deribit_btcusd.parquet')"
   ]
  },
  {
   "cell_type": "code",
   "execution_count": 23,
   "id": "111ccd7c",
   "metadata": {},
   "outputs": [],
   "source": [
    "der = pd.read_parquet('/home/donlekout/Desktop/Thesis/Data/Derivatives/Perpetuals/Bybit/btcusd_bybit.parquet')\n",
    "\n",
    "der = der.sort_values('date')\n",
    "der['date'] = pd.to_datetime(der['date'], unit = 'ms')\n",
    "der = der.set_index('date', drop = True)\n",
    "der = der[['price', 'amount', 'sell']].copy()\n",
    "\n",
    "der.to_parquet('/home/donlekout/Desktop/Thesis/Data/Derivatives/Perpetuals/Bybit/btcusd_bybit.parquet2')"
   ]
  },
  {
   "cell_type": "code",
   "execution_count": 25,
   "id": "57e368b5",
   "metadata": {},
   "outputs": [],
   "source": [
    "der = pd.read_parquet('/home/donlekout/Desktop/Thesis/Data/Derivatives/Perpetuals/OKEX/okex_btcusd.parquet')"
   ]
  },
  {
   "cell_type": "code",
   "execution_count": 26,
   "id": "13671b04",
   "metadata": {},
   "outputs": [
    {
     "data": {
      "text/html": [
       "<div>\n",
       "<style scoped>\n",
       "    .dataframe tbody tr th:only-of-type {\n",
       "        vertical-align: middle;\n",
       "    }\n",
       "\n",
       "    .dataframe tbody tr th {\n",
       "        vertical-align: top;\n",
       "    }\n",
       "\n",
       "    .dataframe thead th {\n",
       "        text-align: right;\n",
       "    }\n",
       "</style>\n",
       "<table border=\"1\" class=\"dataframe\">\n",
       "  <thead>\n",
       "    <tr style=\"text-align: right;\">\n",
       "      <th></th>\n",
       "      <th>symbol</th>\n",
       "      <th>date</th>\n",
       "      <th>price</th>\n",
       "      <th>amount</th>\n",
       "      <th>sell</th>\n",
       "    </tr>\n",
       "  </thead>\n",
       "  <tbody>\n",
       "    <tr>\n",
       "      <th>0</th>\n",
       "      <td>btcusdperpetual</td>\n",
       "      <td>1559742985921</td>\n",
       "      <td>7748.96</td>\n",
       "      <td>1</td>\n",
       "      <td>True</td>\n",
       "    </tr>\n",
       "    <tr>\n",
       "      <th>11</th>\n",
       "      <td>btcusdperpetual</td>\n",
       "      <td>1559742986203</td>\n",
       "      <td>7748.96</td>\n",
       "      <td>8</td>\n",
       "      <td>True</td>\n",
       "    </tr>\n",
       "    <tr>\n",
       "      <th>10</th>\n",
       "      <td>btcusdperpetual</td>\n",
       "      <td>1559742986203</td>\n",
       "      <td>7748.97</td>\n",
       "      <td>1</td>\n",
       "      <td>True</td>\n",
       "    </tr>\n",
       "    <tr>\n",
       "      <th>9</th>\n",
       "      <td>btcusdperpetual</td>\n",
       "      <td>1559742986203</td>\n",
       "      <td>7748.97</td>\n",
       "      <td>1</td>\n",
       "      <td>True</td>\n",
       "    </tr>\n",
       "    <tr>\n",
       "      <th>8</th>\n",
       "      <td>btcusdperpetual</td>\n",
       "      <td>1559742986203</td>\n",
       "      <td>7748.97</td>\n",
       "      <td>1</td>\n",
       "      <td>True</td>\n",
       "    </tr>\n",
       "    <tr>\n",
       "      <th>...</th>\n",
       "      <td>...</td>\n",
       "      <td>...</td>\n",
       "      <td>...</td>\n",
       "      <td>...</td>\n",
       "      <td>...</td>\n",
       "    </tr>\n",
       "    <tr>\n",
       "      <th>48745</th>\n",
       "      <td>btcusdperpetual</td>\n",
       "      <td>1573569627883</td>\n",
       "      <td>8671.55</td>\n",
       "      <td>53</td>\n",
       "      <td>False</td>\n",
       "    </tr>\n",
       "    <tr>\n",
       "      <th>48746</th>\n",
       "      <td>btcusdperpetual</td>\n",
       "      <td>1573569630123</td>\n",
       "      <td>8671.51</td>\n",
       "      <td>112</td>\n",
       "      <td>True</td>\n",
       "    </tr>\n",
       "    <tr>\n",
       "      <th>48747</th>\n",
       "      <td>btcusdperpetual</td>\n",
       "      <td>1573569630123</td>\n",
       "      <td>8671.51</td>\n",
       "      <td>88</td>\n",
       "      <td>True</td>\n",
       "    </tr>\n",
       "    <tr>\n",
       "      <th>48748</th>\n",
       "      <td>btcusdperpetual</td>\n",
       "      <td>1573569632563</td>\n",
       "      <td>8671.65</td>\n",
       "      <td>165</td>\n",
       "      <td>True</td>\n",
       "    </tr>\n",
       "    <tr>\n",
       "      <th>48749</th>\n",
       "      <td>btcusdperpetual</td>\n",
       "      <td>1573569632563</td>\n",
       "      <td>8671.65</td>\n",
       "      <td>130</td>\n",
       "      <td>True</td>\n",
       "    </tr>\n",
       "  </tbody>\n",
       "</table>\n",
       "<p>20043157 rows × 5 columns</p>\n",
       "</div>"
      ],
      "text/plain": [
       "                symbol           date    price  amount   sell\n",
       "0      btcusdperpetual  1559742985921  7748.96       1   True\n",
       "11     btcusdperpetual  1559742986203  7748.96       8   True\n",
       "10     btcusdperpetual  1559742986203  7748.97       1   True\n",
       "9      btcusdperpetual  1559742986203  7748.97       1   True\n",
       "8      btcusdperpetual  1559742986203  7748.97       1   True\n",
       "...                ...            ...      ...     ...    ...\n",
       "48745  btcusdperpetual  1573569627883  8671.55      53  False\n",
       "48746  btcusdperpetual  1573569630123  8671.51     112   True\n",
       "48747  btcusdperpetual  1573569630123  8671.51      88   True\n",
       "48748  btcusdperpetual  1573569632563  8671.65     165   True\n",
       "48749  btcusdperpetual  1573569632563  8671.65     130   True\n",
       "\n",
       "[20043157 rows x 5 columns]"
      ]
     },
     "execution_count": 26,
     "metadata": {},
     "output_type": "execute_result"
    }
   ],
   "source": [
    "der"
   ]
  },
  {
   "cell_type": "code",
   "execution_count": 53,
   "id": "d4743246",
   "metadata": {},
   "outputs": [
    {
     "data": {
      "text/html": [
       "<div>\n",
       "<style scoped>\n",
       "    .dataframe tbody tr th:only-of-type {\n",
       "        vertical-align: middle;\n",
       "    }\n",
       "\n",
       "    .dataframe tbody tr th {\n",
       "        vertical-align: top;\n",
       "    }\n",
       "\n",
       "    .dataframe thead th {\n",
       "        text-align: right;\n",
       "    }\n",
       "</style>\n",
       "<table border=\"1\" class=\"dataframe\">\n",
       "  <thead>\n",
       "    <tr style=\"text-align: right;\">\n",
       "      <th></th>\n",
       "      <th></th>\n",
       "      <th>symbol</th>\n",
       "      <th>date</th>\n",
       "      <th>price</th>\n",
       "      <th>amount</th>\n",
       "      <th>sell</th>\n",
       "    </tr>\n",
       "  </thead>\n",
       "  <tbody>\n",
       "    <tr>\n",
       "      <th rowspan=\"5\" valign=\"top\">BTCCW</th>\n",
       "      <th>0</th>\n",
       "      <td>btccw</td>\n",
       "      <td>1571385509134</td>\n",
       "      <td>7909.00</td>\n",
       "      <td>5714</td>\n",
       "      <td>True</td>\n",
       "    </tr>\n",
       "    <tr>\n",
       "      <th>2</th>\n",
       "      <td>btccw</td>\n",
       "      <td>1571385509396</td>\n",
       "      <td>7908.99</td>\n",
       "      <td>494</td>\n",
       "      <td>True</td>\n",
       "    </tr>\n",
       "    <tr>\n",
       "      <th>1</th>\n",
       "      <td>btccw</td>\n",
       "      <td>1571385509396</td>\n",
       "      <td>7908.99</td>\n",
       "      <td>526</td>\n",
       "      <td>True</td>\n",
       "    </tr>\n",
       "    <tr>\n",
       "      <th>3</th>\n",
       "      <td>btccw</td>\n",
       "      <td>1571385559765</td>\n",
       "      <td>7908.99</td>\n",
       "      <td>1696</td>\n",
       "      <td>True</td>\n",
       "    </tr>\n",
       "    <tr>\n",
       "      <th>4</th>\n",
       "      <td>btccw</td>\n",
       "      <td>1571385560914</td>\n",
       "      <td>7908.99</td>\n",
       "      <td>156</td>\n",
       "      <td>True</td>\n",
       "    </tr>\n",
       "    <tr>\n",
       "      <th>...</th>\n",
       "      <th>...</th>\n",
       "      <td>...</td>\n",
       "      <td>...</td>\n",
       "      <td>...</td>\n",
       "      <td>...</td>\n",
       "      <td>...</td>\n",
       "    </tr>\n",
       "    <tr>\n",
       "      <th rowspan=\"5\" valign=\"top\">BTCNW</th>\n",
       "      <th>52</th>\n",
       "      <td>btcnw</td>\n",
       "      <td>1633305863685</td>\n",
       "      <td>48429.95</td>\n",
       "      <td>60</td>\n",
       "      <td>True</td>\n",
       "    </tr>\n",
       "    <tr>\n",
       "      <th>54</th>\n",
       "      <td>btcnw</td>\n",
       "      <td>1633305863685</td>\n",
       "      <td>48427.38</td>\n",
       "      <td>22</td>\n",
       "      <td>True</td>\n",
       "    </tr>\n",
       "    <tr>\n",
       "      <th>50</th>\n",
       "      <td>btcnw</td>\n",
       "      <td>1633305863685</td>\n",
       "      <td>48429.96</td>\n",
       "      <td>304</td>\n",
       "      <td>True</td>\n",
       "    </tr>\n",
       "    <tr>\n",
       "      <th>51</th>\n",
       "      <td>btcnw</td>\n",
       "      <td>1633305863685</td>\n",
       "      <td>48429.96</td>\n",
       "      <td>2</td>\n",
       "      <td>True</td>\n",
       "    </tr>\n",
       "    <tr>\n",
       "      <th>53</th>\n",
       "      <td>btcnw</td>\n",
       "      <td>1633305863685</td>\n",
       "      <td>48429.95</td>\n",
       "      <td>20</td>\n",
       "      <td>True</td>\n",
       "    </tr>\n",
       "  </tbody>\n",
       "</table>\n",
       "<p>96194610 rows × 5 columns</p>\n",
       "</div>"
      ],
      "text/plain": [
       "         symbol           date     price  amount  sell\n",
       "BTCCW 0   btccw  1571385509134   7909.00    5714  True\n",
       "      2   btccw  1571385509396   7908.99     494  True\n",
       "      1   btccw  1571385509396   7908.99     526  True\n",
       "      3   btccw  1571385559765   7908.99    1696  True\n",
       "      4   btccw  1571385560914   7908.99     156  True\n",
       "...         ...            ...       ...     ...   ...\n",
       "BTCNW 52  btcnw  1633305863685  48429.95      60  True\n",
       "      54  btcnw  1633305863685  48427.38      22  True\n",
       "      50  btcnw  1633305863685  48429.96     304  True\n",
       "      51  btcnw  1633305863685  48429.96       2  True\n",
       "      53  btcnw  1633305863685  48429.95      20  True\n",
       "\n",
       "[96194610 rows x 5 columns]"
      ]
     },
     "execution_count": 53,
     "metadata": {},
     "output_type": "execute_result"
    }
   ],
   "source": [
    "der = pd.read_parquet('/home/donlekout/Desktop/Thesis/Data/Derivatives/Futures/Huobi/btccw_btcnq_btcnw_huobi.parquet')\n",
    "der"
   ]
  },
  {
   "cell_type": "code",
   "execution_count": 48,
   "id": "c25750bf",
   "metadata": {},
   "outputs": [],
   "source": [
    "der = der.sort_values('date')\n",
    "der['date'] = pd.to_datetime(der['date'], unit = 'ms')\n",
    "der.set_index('date', drop = True, inplace = True)\n",
    "der = der[['price', 'amount', 'sell']].copy()"
   ]
  },
  {
   "cell_type": "code",
   "execution_count": 49,
   "id": "4c41114e",
   "metadata": {},
   "outputs": [
    {
     "name": "stdout",
     "output_type": "stream",
     "text": [
      "<class 'pandas.core.frame.DataFrame'>\n",
      "DatetimeIndex: 424830385 entries, 2019-10-22 12:35:34.566000 to 2021-10-04 00:04:27.633000\n",
      "Data columns (total 3 columns):\n",
      " #   Column  Dtype  \n",
      "---  ------  -----  \n",
      " 0   price   float64\n",
      " 1   amount  int64  \n",
      " 2   sell    bool   \n",
      "dtypes: bool(1), float64(1), int64(1)\n",
      "memory usage: 9.9 GB\n"
     ]
    }
   ],
   "source": [
    "der.info()"
   ]
  },
  {
   "cell_type": "code",
   "execution_count": 51,
   "id": "ff081222",
   "metadata": {},
   "outputs": [],
   "source": [
    "der.to_parquet('/home/donlekout/Desktop/Thesis/Data/Derivatives/Futures/Huobi/huobi_futures_btccq.parquet')"
   ]
  },
  {
   "cell_type": "code",
   "execution_count": 52,
   "id": "af521cd9",
   "metadata": {},
   "outputs": [],
   "source": [
    "del der"
   ]
  },
  {
   "cell_type": "code",
   "execution_count": null,
   "id": "523773c4",
   "metadata": {},
   "outputs": [],
   "source": []
  }
 ],
 "metadata": {
  "interpreter": {
   "hash": "9f28418bc522dfa93acf62a1f08ec221bb8f41e4cd1520bedd7a795ba207d6e0"
  },
  "kernelspec": {
   "display_name": "Python 3 (ipykernel)",
   "language": "python",
   "name": "python3"
  },
  "language_info": {
   "codemirror_mode": {
    "name": "ipython",
    "version": 3
   },
   "file_extension": ".py",
   "mimetype": "text/x-python",
   "name": "python",
   "nbconvert_exporter": "python",
   "pygments_lexer": "ipython3",
   "version": "3.8.12"
  }
 },
 "nbformat": 4,
 "nbformat_minor": 5
}
